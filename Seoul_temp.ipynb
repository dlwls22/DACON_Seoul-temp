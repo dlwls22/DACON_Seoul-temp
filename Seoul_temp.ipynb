{
 "cells": [
  {
   "cell_type": "code",
   "execution_count": null,
   "metadata": {},
   "outputs": [],
   "source": [
    "import pandas as pd\n",
    "import numpy as np\n",
    "import datetime\n",
    "import random\n",
    "import os\n",
    "import sys\n",
    "import holidays\n",
    "\n",
    "import sklearn\n",
    "from sklearn.metrics import mean_squared_error\n",
    "\n",
    "from catboost import CatBoostRegressor\n",
    "from xgboost import XGBRegressor\n",
    "from lightgbm import LGBMRegressor\n",
    "from sklearn.ensemble import RandomForestRegressor, ExtraTreesRegressor\n",
    "\n",
    "from sklearn.model_selection import KFold\n",
    "from sklearn.metrics import mean_absolute_error\n",
    "import os"
   ]
  },
  {
   "cell_type": "code",
   "execution_count": 18,
   "metadata": {},
   "outputs": [],
   "source": [
    "# 시드 고정\n",
    "def seed_everything(seed: int = 2024):\n",
    "    random.seed(seed)\n",
    "    np.random.seed(seed)\n",
    "    os.environ[\"PYTHONHASHSEED\"] = str(seed)\n",
    "seed_everything(2024)"
   ]
  },
  {
   "cell_type": "code",
   "execution_count": 19,
   "metadata": {},
   "outputs": [],
   "source": [
    "train = pd.read_csv(r\"C:\\Users\\dlwks\\OneDrive\\바탕 화면\\VSCode\\서울시 평균 기온\\train.csv\", parse_dates=[\"일시\"])\n",
    "submit = pd.read_csv(r\"C:\\Users\\dlwks\\OneDrive\\바탕 화면\\VSCode\\서울시 평균 기온\\sample_submission.csv\")"
   ]
  },
  {
   "cell_type": "code",
   "execution_count": 20,
   "metadata": {},
   "outputs": [
    {
     "data": {
      "text/plain": [
       "일시          0\n",
       "최고기온        3\n",
       "최저기온        3\n",
       "일교차         4\n",
       "강수량     13861\n",
       "평균습도        0\n",
       "평균풍속        4\n",
       "일조합       118\n",
       "일사합      4862\n",
       "일조율       366\n",
       "평균기온        0\n",
       "dtype: int64"
      ]
     },
     "execution_count": 20,
     "metadata": {},
     "output_type": "execute_result"
    }
   ],
   "source": [
    "train.isna().sum()"
   ]
  },
  {
   "cell_type": "code",
   "execution_count": 21,
   "metadata": {},
   "outputs": [],
   "source": [
    "train = train.set_index('일시')"
   ]
  },
  {
   "cell_type": "code",
   "execution_count": 22,
   "metadata": {},
   "outputs": [
    {
     "data": {
      "text/html": [
       "<div>\n",
       "<style scoped>\n",
       "    .dataframe tbody tr th:only-of-type {\n",
       "        vertical-align: middle;\n",
       "    }\n",
       "\n",
       "    .dataframe tbody tr th {\n",
       "        vertical-align: top;\n",
       "    }\n",
       "\n",
       "    .dataframe thead th {\n",
       "        text-align: right;\n",
       "    }\n",
       "</style>\n",
       "<table border=\"1\" class=\"dataframe\">\n",
       "  <thead>\n",
       "    <tr style=\"text-align: right;\">\n",
       "      <th></th>\n",
       "      <th>최고기온</th>\n",
       "      <th>최저기온</th>\n",
       "      <th>일교차</th>\n",
       "      <th>강수량</th>\n",
       "      <th>평균습도</th>\n",
       "      <th>평균풍속</th>\n",
       "      <th>일조합</th>\n",
       "      <th>일사합</th>\n",
       "      <th>일조율</th>\n",
       "      <th>평균기온</th>\n",
       "    </tr>\n",
       "    <tr>\n",
       "      <th>일시</th>\n",
       "      <th></th>\n",
       "      <th></th>\n",
       "      <th></th>\n",
       "      <th></th>\n",
       "      <th></th>\n",
       "      <th></th>\n",
       "      <th></th>\n",
       "      <th></th>\n",
       "      <th></th>\n",
       "      <th></th>\n",
       "    </tr>\n",
       "  </thead>\n",
       "  <tbody>\n",
       "    <tr>\n",
       "      <th>1967-02-19</th>\n",
       "      <td>NaN</td>\n",
       "      <td>NaN</td>\n",
       "      <td>NaN</td>\n",
       "      <td>NaN</td>\n",
       "      <td>62.0</td>\n",
       "      <td>1.8</td>\n",
       "      <td>9.5</td>\n",
       "      <td>NaN</td>\n",
       "      <td>93.1</td>\n",
       "      <td>-1.7</td>\n",
       "    </tr>\n",
       "    <tr>\n",
       "      <th>1973-10-16</th>\n",
       "      <td>NaN</td>\n",
       "      <td>NaN</td>\n",
       "      <td>NaN</td>\n",
       "      <td>0.4</td>\n",
       "      <td>74.0</td>\n",
       "      <td>1.8</td>\n",
       "      <td>3.5</td>\n",
       "      <td>9.24</td>\n",
       "      <td>29.7</td>\n",
       "      <td>12.3</td>\n",
       "    </tr>\n",
       "    <tr>\n",
       "      <th>2017-10-12</th>\n",
       "      <td>NaN</td>\n",
       "      <td>8.8</td>\n",
       "      <td>NaN</td>\n",
       "      <td>NaN</td>\n",
       "      <td>71.0</td>\n",
       "      <td>2.0</td>\n",
       "      <td>NaN</td>\n",
       "      <td>2.23</td>\n",
       "      <td>0.0</td>\n",
       "      <td>11.4</td>\n",
       "    </tr>\n",
       "    <tr>\n",
       "      <th>2022-08-08</th>\n",
       "      <td>28.4</td>\n",
       "      <td>NaN</td>\n",
       "      <td>NaN</td>\n",
       "      <td>129.6</td>\n",
       "      <td>91.6</td>\n",
       "      <td>3.3</td>\n",
       "      <td>NaN</td>\n",
       "      <td>NaN</td>\n",
       "      <td>0.0</td>\n",
       "      <td>26.8</td>\n",
       "    </tr>\n",
       "  </tbody>\n",
       "</table>\n",
       "</div>"
      ],
      "text/plain": [
       "            최고기온  최저기온  일교차    강수량  평균습도  평균풍속  일조합   일사합   일조율  평균기온\n",
       "일시                                                                   \n",
       "1967-02-19   NaN   NaN  NaN    NaN  62.0   1.8  9.5   NaN  93.1  -1.7\n",
       "1973-10-16   NaN   NaN  NaN    0.4  74.0   1.8  3.5  9.24  29.7  12.3\n",
       "2017-10-12   NaN   8.8  NaN    NaN  71.0   2.0  NaN  2.23   0.0  11.4\n",
       "2022-08-08  28.4   NaN  NaN  129.6  91.6   3.3  NaN   NaN   0.0  26.8"
      ]
     },
     "execution_count": 22,
     "metadata": {},
     "output_type": "execute_result"
    }
   ],
   "source": [
    "cond1 = train['최고기온'].isna()\n",
    "cond2 = train['최저기온'].isna()\n",
    "cond3 = train['일교차'].isna()\n",
    "\n",
    "train[cond1|cond2|cond3]"
   ]
  },
  {
   "cell_type": "code",
   "execution_count": 23,
   "metadata": {},
   "outputs": [
    {
     "data": {
      "text/html": [
       "<div>\n",
       "<style scoped>\n",
       "    .dataframe tbody tr th:only-of-type {\n",
       "        vertical-align: middle;\n",
       "    }\n",
       "\n",
       "    .dataframe tbody tr th {\n",
       "        vertical-align: top;\n",
       "    }\n",
       "\n",
       "    .dataframe thead th {\n",
       "        text-align: right;\n",
       "    }\n",
       "</style>\n",
       "<table border=\"1\" class=\"dataframe\">\n",
       "  <thead>\n",
       "    <tr style=\"text-align: right;\">\n",
       "      <th></th>\n",
       "      <th>최고기온</th>\n",
       "      <th>최저기온</th>\n",
       "      <th>일교차</th>\n",
       "      <th>강수량</th>\n",
       "      <th>평균습도</th>\n",
       "      <th>평균풍속</th>\n",
       "      <th>일조합</th>\n",
       "      <th>일사합</th>\n",
       "      <th>일조율</th>\n",
       "      <th>평균기온</th>\n",
       "    </tr>\n",
       "    <tr>\n",
       "      <th>일시</th>\n",
       "      <th></th>\n",
       "      <th></th>\n",
       "      <th></th>\n",
       "      <th></th>\n",
       "      <th></th>\n",
       "      <th></th>\n",
       "      <th></th>\n",
       "      <th></th>\n",
       "      <th></th>\n",
       "      <th></th>\n",
       "    </tr>\n",
       "  </thead>\n",
       "  <tbody>\n",
       "    <tr>\n",
       "      <th>1967-02-19</th>\n",
       "      <td>3.25</td>\n",
       "      <td>-6.15</td>\n",
       "      <td>9.40</td>\n",
       "      <td>NaN</td>\n",
       "      <td>62.0</td>\n",
       "      <td>1.8</td>\n",
       "      <td>9.5</td>\n",
       "      <td>NaN</td>\n",
       "      <td>93.1</td>\n",
       "      <td>-1.7</td>\n",
       "    </tr>\n",
       "    <tr>\n",
       "      <th>1973-10-16</th>\n",
       "      <td>17.00</td>\n",
       "      <td>5.65</td>\n",
       "      <td>11.35</td>\n",
       "      <td>0.4</td>\n",
       "      <td>74.0</td>\n",
       "      <td>1.8</td>\n",
       "      <td>3.5</td>\n",
       "      <td>9.24</td>\n",
       "      <td>29.7</td>\n",
       "      <td>12.3</td>\n",
       "    </tr>\n",
       "    <tr>\n",
       "      <th>2017-10-12</th>\n",
       "      <td>20.30</td>\n",
       "      <td>8.80</td>\n",
       "      <td>11.50</td>\n",
       "      <td>NaN</td>\n",
       "      <td>71.0</td>\n",
       "      <td>2.0</td>\n",
       "      <td>NaN</td>\n",
       "      <td>2.23</td>\n",
       "      <td>0.0</td>\n",
       "      <td>11.4</td>\n",
       "    </tr>\n",
       "    <tr>\n",
       "      <th>2022-08-08</th>\n",
       "      <td>28.40</td>\n",
       "      <td>24.60</td>\n",
       "      <td>3.80</td>\n",
       "      <td>129.6</td>\n",
       "      <td>91.6</td>\n",
       "      <td>3.3</td>\n",
       "      <td>NaN</td>\n",
       "      <td>NaN</td>\n",
       "      <td>0.0</td>\n",
       "      <td>26.8</td>\n",
       "    </tr>\n",
       "  </tbody>\n",
       "</table>\n",
       "</div>"
      ],
      "text/plain": [
       "             최고기온   최저기온    일교차    강수량  평균습도  평균풍속  일조합   일사합   일조율  평균기온\n",
       "일시                                                                       \n",
       "1967-02-19   3.25  -6.15   9.40    NaN  62.0   1.8  9.5   NaN  93.1  -1.7\n",
       "1973-10-16  17.00   5.65  11.35    0.4  74.0   1.8  3.5  9.24  29.7  12.3\n",
       "2017-10-12  20.30   8.80  11.50    NaN  71.0   2.0  NaN  2.23   0.0  11.4\n",
       "2022-08-08  28.40  24.60   3.80  129.6  91.6   3.3  NaN   NaN   0.0  26.8"
      ]
     },
     "metadata": {},
     "output_type": "display_data"
    },
    {
     "name": "stdout",
     "output_type": "stream",
     "text": [
      "최고기온        0\n",
      "최저기온        0\n",
      "일교차         0\n",
      "강수량     13861\n",
      "평균습도        0\n",
      "평균풍속        4\n",
      "일조합       118\n",
      "일사합      4862\n",
      "일조율       366\n",
      "평균기온        0\n",
      "dtype: int64\n"
     ]
    }
   ],
   "source": [
    "train['최고기온'] = train['최고기온'].interpolate(method = 'linear')\n",
    "train['최저기온'] = train['최저기온'].interpolate(method = 'linear')\n",
    "\n",
    "train.loc[train['일교차'].isna(), '일교차'] = train['최고기온'] - train['최저기온']\n",
    "\n",
    "display(train[cond1|cond2|cond3])\n",
    "print(train.isnull().sum())"
   ]
  },
  {
   "cell_type": "code",
   "execution_count": 24,
   "metadata": {},
   "outputs": [
    {
     "data": {
      "text/html": [
       "<style>#sk-container-id-2 {color: black;}#sk-container-id-2 pre{padding: 0;}#sk-container-id-2 div.sk-toggleable {background-color: white;}#sk-container-id-2 label.sk-toggleable__label {cursor: pointer;display: block;width: 100%;margin-bottom: 0;padding: 0.3em;box-sizing: border-box;text-align: center;}#sk-container-id-2 label.sk-toggleable__label-arrow:before {content: \"▸\";float: left;margin-right: 0.25em;color: #696969;}#sk-container-id-2 label.sk-toggleable__label-arrow:hover:before {color: black;}#sk-container-id-2 div.sk-estimator:hover label.sk-toggleable__label-arrow:before {color: black;}#sk-container-id-2 div.sk-toggleable__content {max-height: 0;max-width: 0;overflow: hidden;text-align: left;background-color: #f0f8ff;}#sk-container-id-2 div.sk-toggleable__content pre {margin: 0.2em;color: black;border-radius: 0.25em;background-color: #f0f8ff;}#sk-container-id-2 input.sk-toggleable__control:checked~div.sk-toggleable__content {max-height: 200px;max-width: 100%;overflow: auto;}#sk-container-id-2 input.sk-toggleable__control:checked~label.sk-toggleable__label-arrow:before {content: \"▾\";}#sk-container-id-2 div.sk-estimator input.sk-toggleable__control:checked~label.sk-toggleable__label {background-color: #d4ebff;}#sk-container-id-2 div.sk-label input.sk-toggleable__control:checked~label.sk-toggleable__label {background-color: #d4ebff;}#sk-container-id-2 input.sk-hidden--visually {border: 0;clip: rect(1px 1px 1px 1px);clip: rect(1px, 1px, 1px, 1px);height: 1px;margin: -1px;overflow: hidden;padding: 0;position: absolute;width: 1px;}#sk-container-id-2 div.sk-estimator {font-family: monospace;background-color: #f0f8ff;border: 1px dotted black;border-radius: 0.25em;box-sizing: border-box;margin-bottom: 0.5em;}#sk-container-id-2 div.sk-estimator:hover {background-color: #d4ebff;}#sk-container-id-2 div.sk-parallel-item::after {content: \"\";width: 100%;border-bottom: 1px solid gray;flex-grow: 1;}#sk-container-id-2 div.sk-label:hover label.sk-toggleable__label {background-color: #d4ebff;}#sk-container-id-2 div.sk-serial::before {content: \"\";position: absolute;border-left: 1px solid gray;box-sizing: border-box;top: 0;bottom: 0;left: 50%;z-index: 0;}#sk-container-id-2 div.sk-serial {display: flex;flex-direction: column;align-items: center;background-color: white;padding-right: 0.2em;padding-left: 0.2em;position: relative;}#sk-container-id-2 div.sk-item {position: relative;z-index: 1;}#sk-container-id-2 div.sk-parallel {display: flex;align-items: stretch;justify-content: center;background-color: white;position: relative;}#sk-container-id-2 div.sk-item::before, #sk-container-id-2 div.sk-parallel-item::before {content: \"\";position: absolute;border-left: 1px solid gray;box-sizing: border-box;top: 0;bottom: 0;left: 50%;z-index: -1;}#sk-container-id-2 div.sk-parallel-item {display: flex;flex-direction: column;z-index: 1;position: relative;background-color: white;}#sk-container-id-2 div.sk-parallel-item:first-child::after {align-self: flex-end;width: 50%;}#sk-container-id-2 div.sk-parallel-item:last-child::after {align-self: flex-start;width: 50%;}#sk-container-id-2 div.sk-parallel-item:only-child::after {width: 0;}#sk-container-id-2 div.sk-dashed-wrapped {border: 1px dashed gray;margin: 0 0.4em 0.5em 0.4em;box-sizing: border-box;padding-bottom: 0.4em;background-color: white;}#sk-container-id-2 div.sk-label label {font-family: monospace;font-weight: bold;display: inline-block;line-height: 1.2em;}#sk-container-id-2 div.sk-label-container {text-align: center;}#sk-container-id-2 div.sk-container {/* jupyter's `normalize.less` sets `[hidden] { display: none; }` but bootstrap.min.css set `[hidden] { display: none !important; }` so we also need the `!important` here to be able to override the default hidden behavior on the sphinx rendered scikit-learn.org. See: https://github.com/scikit-learn/scikit-learn/issues/21755 */display: inline-block !important;position: relative;}#sk-container-id-2 div.sk-text-repr-fallback {display: none;}</style><div id=\"sk-container-id-2\" class=\"sk-top-container\"><div class=\"sk-text-repr-fallback\"><pre>LinearRegression()</pre><b>In a Jupyter environment, please rerun this cell to show the HTML representation or trust the notebook. <br />On GitHub, the HTML representation is unable to render, please try loading this page with nbviewer.org.</b></div><div class=\"sk-container\" hidden><div class=\"sk-item\"><div class=\"sk-estimator sk-toggleable\"><input class=\"sk-toggleable__control sk-hidden--visually\" id=\"sk-estimator-id-2\" type=\"checkbox\" checked><label for=\"sk-estimator-id-2\" class=\"sk-toggleable__label sk-toggleable__label-arrow\">LinearRegression</label><div class=\"sk-toggleable__content\"><pre>LinearRegression()</pre></div></div></div></div></div>"
      ],
      "text/plain": [
       "LinearRegression()"
      ]
     },
     "execution_count": 24,
     "metadata": {},
     "output_type": "execute_result"
    }
   ],
   "source": [
    "# 일조율 결측값 채우기\n",
    "from sklearn.linear_model import LinearRegression\n",
    "\n",
    "fill_rate_model = LinearRegression()\n",
    "\n",
    "# 결측값이 없는 데이터로 모델을 학습\n",
    "not_null_data = train[(train['일조합'].notna()) & (train['일조율'].notna())]\n",
    "\n",
    "# 독립변수로 일조합 사용\n",
    "X = not_null_data[['일조합']]\n",
    "y = not_null_data['일조율']\n",
    "\n",
    "fill_rate_model.fit(X, y)\n",
    "\n",
    "# 일조율 결측값을 예측하여 채우기\n",
    "is_null_dlfwhdbf = train['일조율'].isna()\n",
    "train.loc[is_null_dlfwhdbf, '일조율'] = fill_rate_model.predict(train.loc[is_null_dlfwhdbf, ['일조합']])"
   ]
  },
  {
   "cell_type": "code",
   "execution_count": 27,
   "metadata": {},
   "outputs": [
    {
     "data": {
      "text/plain": [
       "최고기온        0\n",
       "최저기온        0\n",
       "일교차         0\n",
       "강수량     13861\n",
       "평균습도        0\n",
       "평균풍속        4\n",
       "일조합       118\n",
       "일사합      4862\n",
       "일조율         0\n",
       "평균기온        0\n",
       "dtype: int64"
      ]
     },
     "execution_count": 27,
     "metadata": {},
     "output_type": "execute_result"
    }
   ],
   "source": [
    "train.isnull().sum()"
   ]
  },
  {
   "cell_type": "code",
   "execution_count": 28,
   "metadata": {},
   "outputs": [],
   "source": [
    "# 독립변수로 일조율 사용\n",
    "X = train[['일조율']]\n",
    "y = train['일조합'].dropna()\n",
    "\n",
    "# 일조합 결측값을 채우기 위한 모델 정의\n",
    "fill_sum_model = LinearRegression()\n",
    "fill_sum_model.fit(X[~train['일조합'].isna()], y)\n",
    "\n",
    "# 일조합 결측값을 예측하여 채우기\n",
    "is_null_dlfwhgkq = train['일조합'].isna()\n",
    "train.loc[is_null_dlfwhgkq, '일조합'] = fill_sum_model.predict(train.loc[is_null_dlfwhgkq, ['일조율']])"
   ]
  },
  {
   "cell_type": "code",
   "execution_count": 29,
   "metadata": {},
   "outputs": [
    {
     "data": {
      "text/plain": [
       "최고기온        0\n",
       "최저기온        0\n",
       "일교차         0\n",
       "강수량     13861\n",
       "평균습도        0\n",
       "평균풍속        4\n",
       "일조합         0\n",
       "일사합      4862\n",
       "일조율         0\n",
       "평균기온        0\n",
       "dtype: int64"
      ]
     },
     "execution_count": 29,
     "metadata": {},
     "output_type": "execute_result"
    }
   ],
   "source": [
    "train.isnull().sum()"
   ]
  },
  {
   "cell_type": "code",
   "execution_count": 31,
   "metadata": {},
   "outputs": [],
   "source": [
    "# 일사합 결측값을 채우기 위한 모델 정의\n",
    "fill_irradiance_model = LinearRegression()\n",
    "\n",
    "# 결측값이 없는 데이터로 모델을 학습\n",
    "not_null_irradiance_data = train[(train['일조합'].notna()) & (train['일사합'].notna())]\n",
    "\n",
    "# 독립변수로 '일조합'을 사용\n",
    "X_irradiance = not_null_irradiance_data[['일조합']]\n",
    "y_irradiance = not_null_irradiance_data['일사합']\n",
    "fill_irradiance_model.fit(X_irradiance, y_irradiance)\n",
    "\n",
    "# 일사합 결측값을 예측하여 채우기\n",
    "is_null_dlftkgkq = train['일사합'].isna()\n",
    "train.loc[is_null_dlftkgkq, '일사합'] = fill_irradiance_model.predict(train.loc[is_null_dlftkgkq, ['일조합']])"
   ]
  },
  {
   "cell_type": "code",
   "execution_count": 32,
   "metadata": {},
   "outputs": [
    {
     "data": {
      "text/plain": [
       "최고기온        0\n",
       "최저기온        0\n",
       "일교차         0\n",
       "강수량     13861\n",
       "평균습도        0\n",
       "평균풍속        4\n",
       "일조합         0\n",
       "일사합         0\n",
       "일조율         0\n",
       "평균기온        0\n",
       "dtype: int64"
      ]
     },
     "execution_count": 32,
     "metadata": {},
     "output_type": "execute_result"
    }
   ],
   "source": [
    "train.isnull().sum()"
   ]
  },
  {
   "cell_type": "code",
   "execution_count": null,
   "metadata": {},
   "outputs": [],
   "source": []
  },
  {
   "cell_type": "code",
   "execution_count": null,
   "metadata": {},
   "outputs": [],
   "source": []
  },
  {
   "cell_type": "code",
   "execution_count": null,
   "metadata": {},
   "outputs": [],
   "source": []
  },
  {
   "cell_type": "code",
   "execution_count": null,
   "metadata": {},
   "outputs": [],
   "source": [
    "train['일시'] = pd.to_datetime(train['일시'])"
   ]
  },
  {
   "cell_type": "code",
   "execution_count": null,
   "metadata": {},
   "outputs": [],
   "source": [
    "train = train.interpolate(method = 'linear').bfill()"
   ]
  },
  {
   "cell_type": "code",
   "execution_count": null,
   "metadata": {},
   "outputs": [],
   "source": [
    "train['year'] = train['일시'].dt.year\n",
    "train['month'] = train['일시'].dt.month\n",
    "train['week'] = train['일시'].dt.isocalendar().week\n",
    "train['day'] = train['일시'].dt.day\n",
    "train['day_of_week'] = train['일시'].dt.dayofweek\n",
    "train['sin_month'] = np.sin(2 * np.pi * train['month'] / 12)\n",
    "train['cos_month'] = np.cos(2 * np.pi * train['month'] / 12)\n",
    "train['spring'] = train['month'].apply(lambda x: 1 if x in [3, 4, 5] else 0)\n",
    "train['summer'] = train['month'].apply(lambda x: 1 if x in [6, 7, 8] else 0)\n",
    "train['fall'] = train['month'].apply(lambda x: 1 if x in [9, 10, 11] else 0)\n",
    "train['winter'] = train['month'].apply(lambda x: 1 if x in [12, 1, 2] else 0)\n",
    "train['spring_sin'] = np.sin(2 * np.pi * train['spring'] / 12)\n",
    "train['spring_cos'] = np.cos(2 * np.pi * train['spring'] / 12)\n",
    "train['summer_sin'] = np.sin(2 * np.pi * train['summer'] / 12)\n",
    "train['summer_cos'] = np.cos(2 * np.pi * train['summer'] / 12)\n",
    "train['fall_sin'] = np.sin(2 * np.pi * train['fall'] / 12)\n",
    "train['fall_cos'] = np.cos(2 * np.pi * train['fall'] / 12)\n",
    "train['winter_sin'] = np.sin(2 * np.pi * train['winter'] / 12)\n",
    "train['winter_cos'] = np.cos(2 * np.pi * train['winter'] / 12)\n",
    "train['sin_year'] = np.sin(2 * np.pi * (train['year'] - train['year'].min()))\n",
    "train['cos_year'] = np.cos(2 * np.pi * (train['year'] - train['year'].min()))\n",
    "\n",
    "train"
   ]
  },
  {
   "cell_type": "code",
   "execution_count": null,
   "metadata": {},
   "outputs": [],
   "source": [
    "season_dict = {\n",
    "    '입춘': pd.to_datetime('1960-02-04'), '우수': pd.to_datetime('1960-02-18'), '경칩': pd.to_datetime('1960-03-05'),\n",
    "    '춘분': pd.to_datetime('1960-03-20'), '청명': pd.to_datetime('1960-04-05'), '곡우': pd.to_datetime('1960-04-20'),\n",
    "    '입하': pd.to_datetime('1960-05-05'), '소만': pd.to_datetime('1960-05-21'), '망종': pd.to_datetime('1960-06-06'),\n",
    "    '하지': pd.to_datetime('1960-06-21'), '소서': pd.to_datetime('1960-07-07'), '대서': pd.to_datetime('1960-07-22'),\n",
    "    '가을': pd.to_datetime('1960-08-07'), '입추': pd.to_datetime('1960-08-23'), '처서': pd.to_datetime('1960-09-07'),\n",
    "    '백로': pd.to_datetime('1960-09-22'), '추분': pd.to_datetime('1960-10-08'), '한로': pd.to_datetime('1960-10-23'),\n",
    "    '상강': pd.to_datetime('1960-11-07'), '입동': pd.to_datetime('1960-11-22'), '소설': pd.to_datetime('1960-12-07'),\n",
    "    '대설': pd.to_datetime('1960-12-22'), '동지': pd.to_datetime('1961-01-05'), '소한': pd.to_datetime('1961-01-20')\n",
    "}\n",
    "\n",
    "train['절기'] = train['일시'].apply(lambda x: next((key for key, value in season_dict.items() if value.month == x.month and value.day == x.day), None))\n",
    "train['절기'] = train['절기'].notnull().astype(int)\n",
    "\n",
    "for season in season_dict.keys():\n",
    "    train[season] = (train['일시'] == season_dict[season]).astype(int)\n",
    "\n",
    "one_hot_encoded = pd.get_dummies(train['절기'])\n",
    "\n",
    "train = pd.concat([train, one_hot_encoded], axis=1)\n",
    "\n",
    "train.drop([0, 1], axis=1, inplace=True)\n",
    "\n",
    "train"
   ]
  },
  {
   "cell_type": "code",
   "execution_count": null,
   "metadata": {},
   "outputs": [],
   "source": [
    "X = train[['최고기온', '최저기온', '일교차', '강수량', '평균습도', '평균풍속', '일조합', '일사합', '일조율', 'year', 'month', 'week', 'day', 'day_of_week', 'sin_month',\n",
    "       'cos_month', 'spring', 'summer', 'fall', 'winter', 'spring_sin','spring_cos', 'summer_sin', 'summer_cos', 'fall_sin', 'fall_cos','winter_sin', 'winter_cos', \n",
    "       '절기', '입춘', '우수', '경칩', '춘분', '청명', '곡우', '입하', '소만', '망종', '하지', '소서', '대서', '가을', '입추', '처서', '백로', '추분', '한로',\n",
    "       '상강', '입동', '소설', '대설', '동지', '소한', 'sin_year', 'cos_year']]\n",
    "\n",
    "y = train['평균기온']\n",
    "\n",
    "# K-FOLD 설정\n",
    "kf = KFold(n_splits=CFG.N_SPLITS, shuffle=True, random_state=CFG.SEED)\n",
    "\n",
    "# Fold별 MAE 저장할 리스트\n",
    "mae_scores = []\n",
    "\n",
    "# OOF Pred를 저장할 배열\n",
    "oof_preds = np.zeros(X.shape[0])\n",
    "\n",
    "# Fold별 결과를 담을 디렉토리 생성\n",
    "if not os.path.exists(PATH.OUTPUT_DIR):\n",
    "    os.mkdir(PATH.OUTPUT_DIR)\n",
    "\n",
    "\n",
    "models = [\n",
    "    ('CatBoost', CatBoostRegressor(n_estimators=CFG.N_ESTIMATORS, random_state=CFG.SEED)),\n",
    "    ('XGBoost', XGBRegressor(n_estimators=CFG.N_ESTIMATORS, random_state=CFG.SEED)),\n",
    "    ('LightGBM', LGBMRegressor(n_estimators=CFG.N_ESTIMATORS, random_state=CFG.SEED)),\n",
    "    ('RandomForest', RandomForestRegressor(n_estimators=CFG.N_ESTIMATORS, random_state=CFG.SEED)),\n",
    "    ('ExtraTrees', ExtraTreesRegressor(n_estimators=CFG.N_ESTIMATORS, random_state=CFG.SEED))\n",
    "]\n",
    "\n",
    "oof_preds_ensemble = np.zeros(X.shape[0])\n",
    "\n",
    "for fold, (train_index, valid_index) in enumerate(kf.split(X)):\n",
    "    X_train, X_valid = X.iloc[train_index], X.iloc[valid_index]\n",
    "    y_train, y_valid = y.iloc[train_index], y.iloc[valid_index]\n",
    "\n",
    "    fold_preds = []\n",
    "\n",
    "    for name, model in models:\n",
    "        model.fit(X_train, y_train)\n",
    "        y_pred = model.predict(X_valid)\n",
    "        fold_preds.append(y_pred)\n",
    "\n",
    "        joblib.dump(model, PATH.OUTPUT_DIR + f'/{name}_fold{fold}.joblib')\n",
    "\n",
    "    fold_preds_mean = np.mean(fold_preds, axis=0)\n",
    "    mae = mean_absolute_error(y_valid, fold_preds_mean)\n",
    "    mae_scores.append(mae)\n",
    "\n",
    "    oof_preds_ensemble[valid_index] = fold_preds_mean"
   ]
  },
  {
   "cell_type": "code",
   "execution_count": null,
   "metadata": {},
   "outputs": [],
   "source": [
    "average_mae = np.mean(mae_scores)\n",
    "print(f'Average Mean Absolute Error: {average_mae}')"
   ]
  },
  {
   "cell_type": "code",
   "execution_count": null,
   "metadata": {},
   "outputs": [],
   "source": [
    "sample['평균기온'] = pd.DataFrame(oof_preds_ensemble[:358], columns=['평균기온'])\n",
    "\n",
    "sample.to_csv(PATH.OUTPUT_DIR + '/0101-1.csv', index=False)\n",
    "\n",
    "sample"
   ]
  },
  {
   "cell_type": "code",
   "execution_count": null,
   "metadata": {},
   "outputs": [],
   "source": [
    "# 파일 경로\n",
    "train_path = r'C:\\Users\\dlwks\\OneDrive\\바탕 화면\\VSCode\\서울시 평균 기온\\train.csv' # 학습 데이터 파일 경로\n",
    "submission_path = r'C:\\Users\\dlwks\\OneDrive\\바탕 화면\\VSCode\\서울시 평균 기온\\sample_submission.csv' # 제출 양식 파일 경로\n",
    "\n",
    "# 데이터 불러오기\n",
    "train_df = pd.read_csv(train_path)\n",
    "submission_df = pd.read_csv(submission_path)\n",
    "\n",
    "display(train_df.head())\n",
    "display(submission_df.head())"
   ]
  },
  {
   "cell_type": "code",
   "execution_count": null,
   "metadata": {},
   "outputs": [],
   "source": [
    "train_df['일시'] = pd.to_datetime(train_df['일시'])\n",
    "train_df = train_df.set_index('일시')\n",
    "\n",
    "# 데이터의 시간 간격 지정\n",
    "train_df.index.freq = 'D'\n",
    "\n",
    "# 일시 컬럼이 인덱스로 할당됩니다.  \n",
    "train_df.head()"
   ]
  },
  {
   "cell_type": "code",
   "execution_count": null,
   "metadata": {},
   "outputs": [],
   "source": [
    "# prophet에서 데이터를 인식하도록 일시는 ds로, target값인 평균기온은 y로 지정해줍니다.\n",
    "train_df = train_df.reset_index()\n",
    "train_df = train_df.rename(columns={'일시': 'ds', '평균기온': 'y'})"
   ]
  },
  {
   "cell_type": "code",
   "execution_count": null,
   "metadata": {},
   "outputs": [],
   "source": [
    "#모델 학습\n",
    "\n",
    "from prophet import Prophet\n",
    "\n",
    "prophet = Prophet()\n",
    "prophet.fit(train_df)"
   ]
  },
  {
   "cell_type": "code",
   "execution_count": null,
   "metadata": {},
   "outputs": [],
   "source": [
    "#모델 예측\n",
    "future_data = prophet.make_future_dataframe(periods = 358, freq = 'd') #periods는 예측할 기간\n",
    "forecast_data = prophet.predict(future_data)\n",
    "forecast_data[['ds','yhat']].tail(5)"
   ]
  },
  {
   "cell_type": "code",
   "execution_count": null,
   "metadata": {},
   "outputs": [],
   "source": [
    "submission_df['평균기온'] = forecast_data.yhat[-358:].values\n",
    "submission_df"
   ]
  },
  {
   "cell_type": "code",
   "execution_count": null,
   "metadata": {},
   "outputs": [],
   "source": []
  }
 ],
 "metadata": {
  "kernelspec": {
   "display_name": "Python 3",
   "language": "python",
   "name": "python3"
  },
  "language_info": {
   "codemirror_mode": {
    "name": "ipython",
    "version": 3
   },
   "file_extension": ".py",
   "mimetype": "text/x-python",
   "name": "python",
   "nbconvert_exporter": "python",
   "pygments_lexer": "ipython3",
   "version": "3.11.2"
  }
 },
 "nbformat": 4,
 "nbformat_minor": 2
}
